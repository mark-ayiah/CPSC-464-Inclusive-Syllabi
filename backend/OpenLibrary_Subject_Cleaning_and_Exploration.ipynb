{
 "cells": [
  {
   "cell_type": "code",
   "execution_count": 58,
   "metadata": {
    "colab": {
     "base_uri": "https://localhost:8080/"
    },
    "id": "YX_y3uRlVcuD",
    "outputId": "77e31617-009d-4711-f7fd-ae9e19401eef"
   },
   "outputs": [
    {
     "name": "stdout",
     "output_type": "stream",
     "text": [
      "['Gold discoveries', 'Wolfdogs', 'Classic Literature', 'American Adventure stories', 'Open Library Staff Picks', 'Juvenile fiction', 'Fiction', 'Gold mines and mining', 'Historical Fiction', 'Wolves', 'Human-animal relationships', 'Juvenile Literature', 'Dogs', 'Thriller', 'Accelerated Reader', 'Mensch', 'Survival', 'Children: Grades 4-6', 'Children: Grades 3-4', \"Children's fiction\", 'Wolves, fiction', 'Gold mines and mining, fiction', 'American fiction (fictional works by one author)', 'Dogs, fiction', 'Canada, fiction', 'Indians of North America', 'Large type books', 'Loups', 'Romans, nouvelles, etc. pour la jeunesse', 'Chiens', 'Pôle Nord', 'Romans', 'Adventure stories', 'Nature, fiction', 'Fiction, action & adventure', 'Fiction, historical, general', 'Human-animal relationships, fiction', 'History', 'Wolfdogs -- Fiction', 'Canada, Northern -- Fiction', 'Wilderness survival, fiction', 'Alaska, fiction', 'Yukon, fiction', 'California, fiction', 'Dogs, juvenile literature', 'Adventure and adventurers, fiction']\n"
     ]
    }
   ],
   "source": [
    "#import csv\n",
    "import urllib\n",
    "from urllib.parse import quote\n",
    "\n",
    "#language identifier 1\n",
    "!pip -q install fasttext\n",
    "import fasttext\n",
    "from huggingface_hub import hf_hub_download\n",
    "\n",
    "model_path = hf_hub_download(repo_id=\"facebook/fasttext-language-identification\", filename=\"model.bin\")\n",
    "model_ft = fasttext.load_model(model_path)\n",
    "\n",
    "#language identifier 2\n",
    "!pip -q install langid\n",
    "from langid.langid import LanguageIdentifier, model\n",
    "identifier = LanguageIdentifier.from_modelstring(model, norm_probs=True) #instantiate identifier\n",
    "\n",
    "import requests\n",
    "import re\n",
    "#testing Open Library API\n",
    "r = requests.get('https://openlibrary.org/search.json?q=subject:(\"dogs\"+OR+\"cats\")+subject:(\"Juvenile fiction\"+OR+\"Juvenile literature\")&fields=subject')\n",
    "r = r.json()\n",
    "subs = [d['subject'] for d in r['docs']] #gets the list, AKA value from k:v in subject:list dictionary\n",
    "print(subs[0])"
   ]
  },
  {
   "cell_type": "code",
   "execution_count": null,
   "metadata": {},
   "outputs": [],
   "source": [
    "def fast_eng(word):\n",
    "    #doesn't work well, so giving it 5% error\n",
    "    pred_array = model_ft.predict(word, k = 5)\n",
    "    return pred_array[0][0] == '__label__eng_Latn' or (pred_array[0][1] == '__label__eng_Latn' and pred_array[1][0] - pred_array[1][1] <= 0.15)\n",
    "\n",
    "def lang_eng(word):\n",
    "    return identifier.classify(word)[0] == 'en'"
   ]
  },
  {
   "cell_type": "code",
   "execution_count": 64,
   "metadata": {
    "id": "1213HiZlua35"
   },
   "outputs": [],
   "source": [
    "#discipline tags is a list\n",
    "#diversity tags is a list\n",
    "#k is the number of items to return\n",
    "\n",
    "#finds results that match ANY of the first list of tags and ANY of the second list of tags\n",
    "def search_recs(discipline_tags, diversity_tags, k):\n",
    "  #encode URI\n",
    "  discipline_tags, diversity_tags = list(map(lambda x: urllib.parse.quote(x.encode(\"utf-8\")), discipline_tags)), list(map(lambda x: urllib.parse.quote(x.encode(\"utf-8\")), diversity_tags))\n",
    "  #if this ever throws errors, maybe we need to specify unicode\n",
    "\n",
    "  #exact string matching\n",
    "  discipline_tags, diversity_tags = list(map(lambda x: f\"\\\"{x}\\\"\", discipline_tags)), list(map(lambda x: f\"\\\"{x}\\\"\", diversity_tags))\n",
    "\n",
    "  #match any of the tags\n",
    "  str_disc, str_div = '+OR+'.join(discipline_tags), '+OR+'.join(diversity_tags)\n",
    "\n",
    "  print(f'https://openlibrary.org/search.json?q=subject:({str_disc})+subject:({str_div})&fields=subject&limit={k}')\n",
    "  return requests.get(f'https://openlibrary.org/search.json?q=subject:({str_disc})+subject:({str_div})&fields=author_name,title,isbn,subject&limit={k}').json()"
   ]
  },
  {
   "cell_type": "code",
   "execution_count": 65,
   "metadata": {
    "colab": {
     "base_uri": "https://localhost:8080/"
    },
    "id": "ppOHa_ZHvYyd",
    "outputId": "75b3ca58-84e1-4382-f2e8-78e70944b075"
   },
   "outputs": [
    {
     "name": "stdout",
     "output_type": "stream",
     "text": [
      "https://openlibrary.org/search.json?q=subject:(\"social%20themes\"+OR+\"comics%20%26%20graphic%20novels\")+subject:(\"race%20relations\"+OR+\"americans\")&fields=subject&limit=2\n",
      "{'numFound': 890, 'start': 0, 'numFoundExact': True, 'docs': [{'author_name': ['Kahlil Gibran'], 'isbn': ['9780099505204', '8415676433', '1794497390', '9772477831', '2290313939', '9781072828785', '9798653309106', '1793261636', '9388118456', '9781677406852', '8486344069', '9781086370157', '9781529045857', '2909611108', '2203602147', '9781734114218', '9780434290673', '9788121604376', '9781707256938', '2890740552', '9780099416937', '1513263226', '9789657141427', '9781070110813', '9781841936161', '2851088343', '9781090842220', '1677406852', '9798665054773', '3257239602', '2742731954', '9781549641572', '3530268003', '9781940849911', '9781093216264', '9789879186183', '9781072870630', '9780141194677', '9798472862769', '1678628182', '1515439860', '9781782012306', '9780316308458', '1082769509', '9781076112798', '9798589937541', '9781696135627', '1904633552', '9798687003995', '1096511932', '2266294547', '9781851681051', '2841610659', '1795002042', '9780434290789', '194084987X', '1655406086', '9788475221519', '1839403845', '9781858912165', '1091277745', '2756433586', '1086374088', '9798451953488', '1853264857', '9782864440338', '1858912164', '817224097X', '9798691885013', '8484034119', '0868520489', '1099472180', '9781095152645', '1794078118', '1736976206', '1097331024', '9780802725325', '9781904633556', '9781434104175', '1798024071', '9781839403842', '0739333283', '1707256934', '9789505640270', '8492635010', '9781911475460', '0099505207', '1090842228', '2226039228', '9781530436941', '0140195866', '9781728870335', '8484452700', '1072870622', '9781793380616', '1841936162', '8187061472', '1094148326', '9780099481638', '9781082560842', '9781852900113', '1797577557', '9798685225870', '9781793880949', '9781407098395', '9781781394014', '1070523143', '0802725325', '9781081077679', '9781657049369', '1911475460', '0857088556', '9781793019387', '1851681051', '9782742731954', '1796314668', '9781877527074', '9781070816258', '1696135621', '9781791725853', '9781691482702', '1851681787', '9788495407801', '1070816256', '9781689913805', '140709839X', '1291269398', '1798847078', '9781072332145', '1792892632', '9781096858683', '9781793017796', '9789562910316', '9798769545313', '1407078399', '9780958816137', '9562911160', '9798529501320', '849214310X', '9781098541071', '9781782123460', '1877527076', '1791725856', '9789562911160', '9780739333280', '9781853264856', '9788477204770', '9781795002042', '9781794196575', '000100039X', '9788415676430', '9798653552700', '1793380619', '0316308994', '9781722501990', '9781792996757', '9781864760118', '9798614141691', '9798550112601', '1792996756', '9798649504119', '8121604370', '9798416706456', '9780316308991', '9781848378711', '1691482706', '9781441338365', '9782203231405', '9783491713369', '1080986693', '9780434290680', '9781291832945', '1094148334', '1098541073', '107611279X', '3530267198', '9781794497399', '9781086374087', '0241573718', '9781090529961', '1793880948', '1848378718', '9780375701627', '1090474873', '9781645176381', '9781793188502', '1079404791', '9781070523149', '9501702162', '062702372X', '9509234001', '9783451050893', '9781094148335', '9781080079421', '9176376656', '0958816131', '9780241573716', '9781736976203', '9781515439875', '1407093398', '9788484034117', '8476727011', '9781793261632', '0316308471', '9798681574835', '0681372052', '1095152645', '9788479100605', '9780316308472', '0099481634', '9568356169', '9562910318', '2203231408', '1549641573', '9781780742151', '1094148318', '9780241952993', '9781515439868', '8479532475', '9781077936072', '9781793086815', '9505640277', '0679440674', '9781095153314', '9788492143108', '1688105042', '9781851681785', '9788476727010', '9781943341337', '9780394404288', '1529045851', '9798645631178', '9781645172420', '1697871852', '9782290313930', '9798690471460', '9780517202753', '1448182670', '9780627023729', '9781504058407', '3492237878', '9798520883807', '9781796468434', '9781096550099', '9781099472183', '1793086818', '1072828782', '9781794681354', '9798800420067', '9780681372054', '9781947844872', '0394550498', '9788185674728', '2864440334', '9781793261434', '8477204772', '1734114215', '1838573682', '9789176376652', '9798763674071', '9879186184', '9781090957290', '1070110817', '0394404289', '9789772477838', '1840133724', '9798623611451', '1698829213', '9781079404791', '1077936079', '1940849918', '9798434242127', '153043694X', '9781420961898', '3451050897', '1407052411', '9781795017619', '9781090474872', '1291832947', '9788187061472', '9781096858799', '9781957990132', '1793017794', '1072332140', '9781407093390', '9782266294546', '9781097331024', '1441338365', '9782277301851', '0316308455', '9788479532475', '9781080986699', '8931000235', '1080079424', '9781417916566', '9781655406089', '1852900113', '8475221513', '9789953260266', '0434290815', '1657049361', '9789509234000', '1090957297', '1782012303', '9781098827786', '1096550091', '9953260265', '1943341338', '9798512529492', '9781094148311', '8177691473', '1086370155', '9780143455226', '1420961896', '9798616570000', '9781792892639', '9781082769504', '9781072870623', '9780486837734', '9781096511939', '1082560847', '9780140195866', '1093216263', '1095153315', '9781520847283', '1417916567', '179301938X', '1090529961', '9798629680031', '9781797577555', '9781774817032', '1684223113', '1781394016', '1696381053', '9789388118453', '9780001000391', '0330319728', '1070816248', '179320490X', '9783530100075', '9789501702163', '9781091277748', '9781070816241', '0141910879', '1081077670', '9781696381055', '1793188505', '1096858797', '9781795251426', '0434290688', '1774817039', '8187075244', '9788177691474', '9789568356163', '9782226039224', '9782851088345', '1793261431', '9781697871852', '9788176210089', '9782841610655', '1795017619', '9657141427', '9781698829210', '0241952999', '9782290040539', '0143455222', '1957990139', '9780679440673', '9783530267198', '0141194677', '9781840133721', '043429067X', '9788931000238', '3491713366', '9783530268034', '1947844873', '009941693X', '1795251425', '9780141910871', '9782909611105', '1072870630', '1794196579', '9781407052410', '1794681353', '9788172240974', '8176210080', '1722501995', '9782756433585', '9798687195690', '9798722333551', '1780742150', '9781688105041', '9782890740556', '0375701621', '9781838573683', '227730185X', '1782123466', '1689913800', '1793026033', '1794278001', '0486837734', '9788471669223', '1520847289', '9781793204905', '8479100605', '9798539745790', '8185674728', '9788187075240', '1702147622', '9783257239607', '9780868520483', '9781702147620', '9783492237871', '9781798024072', '9781448182671', '2290040533', '9788492635016', '1796468436', '9507642048', '3530268038', '0517202751', '1520996284', '9781798847077', '9781796314663', '9781071082881', '9781940849874', '9780857088550', '9781794078116', '9782910233136', '9781079404876', '1079404872', '9782203602144', '9781678628185', '1504058402', '2910233138', '1071082884', '9788486344061', '9788484452706', '9788412470765', '9780330319720', '9798473506211', '1096858681', '1434104176', '1864760117', '9780394550497', '1098827783', '8412470761', '164517638X', '9789507642043', '9781793026033', '9780434290819', '9781094148328', '9781520996288', '9781291269390', '9781794278004', '8471669226', '9798653309007', '9783530268003', '172887033X', '1645172422', '1515439879', '9781513263229', '9781684223114', '8495407809', '9798488393073', '9798620604180', '9781407078397', '3530100072', '9798644436316', '0434290785'], 'title': 'The Prophet', 'subject': ['American Prose poems', 'Lebanese', 'Prose', 'Essays Classic Literature', 'Criticism and interpretation', 'Fiction', 'Mysticism', 'Poetry', 'Translations into Arabic', 'Translations into Spanish', 'existentialism', 'existential', 'philosophy', 'philosophical', 'Prose poems, American', 'Poetry (poetic works by one author)', 'Mysticism, poetry', 'Translation into Italian', 'LITERATURA LIBANESA', 'POESIAS LIBANESAS', 'PROSA LIBANESA', 'Poemas en prosa estadounidenses', 'Traducciones al español', 'Misticismo', 'Poesía', 'Arabic poetry', 'Translations into English', 'Religious', 'Spiritual', 'Inspirational', 'Fairy tales', 'Philosophy and religion', 'freedom', 'reason', 'passion', 'pain', 'self-knowledge', 'death', 'Lebensphilosophie', 'Spirituality', 'Philosophy', 'Comics & graphic novels, adaptations', 'Adaptations', 'Graphic novels', 'American literature']}, {'author_name': ['Stephenie Meyer'], 'isbn': ['9789895572700', '9783492251495', '9780356253121', '958758368X', '9781905654406', '1905654413', '9780316160179', '1536400203', '7544803333', '9047510054', '1804228095', '8324589155', '9780557717187', '1905654340', '0739345303', '9788467222296', '9784863321335', '3551356904', '9781904233640', '9780316007443', '0316065455', '2012010679', '0349002495', '9780349002491', '1905654405', '1435244931', '9789707709942', '9780316053419', '8420409855', '3492251498', '9781905654383', '9780316065450', '9781536400205', '1603963545', '9780748125432', '0316007439', '9781907410482', '9780708867846', '9788598078304', '9895572700', '9788466332965', '9780748112517', '9781904233657', '8934974080336', '9781905654703', '842048427X', '9780748132638', '2013212119', '9781408428351', '1417795123', '9781905654376', '9789944821094', '9783551356901', '9780307280909', '0557717183', '9789870405269', '9788420469287', '0748132635', '8467222298', '9781905654413', '1904233805', '0316053414', '9781904233800', '9788580570489', '9781417795123', '0316038377', '9781905654420', '9782012010673', '9780316007412', '161657917X', '8598078301', '0316014419', '9788373846326', '9781435245006', '1905654707', '832458823X', '8420469289', '9780316327336', '9944821098', '9788324588237', '0316038385', '1606863525', '1408428350', '9780316007436', '9781435244931', '4863321333', '9781907411533', '9789587583687', '1904233643', '9780316038386', '9789047510055', '9870405266', '9587045076', '1435245008', '3551581495', '355135894X', '0316033413', '5170546076', '9780316038379', '0708867847', '9781594133299', '9786071104823', '9781616579173', '9781410413567', '0316007412', '8580570484', '1904233651', '9789571039640', '8373846328', '9783551358943', '9781907410024', '9787544803335', '6071104823', '9780356247793', '1905654383', '141041356X', '9707709944', '9783551581495', '9781603963541', '0316327336', '9789606665240', '030728090X', '0316007447', '1905654421', '0356253120', '1594133298', '9788420409856', '1907411534', '9788420484273', '9785170546077', '0356247791', '1905654375', '0748125434', '9780739345306', '9788324589159', '9953683980', '9780316015844', '1907410481', '0316015849', '0316160172', '9781804228098', '9781905654345', '9789953683980', '0748112510', '9782298011531', '9781606863527', '9788420471938', '9606665240', '9571039640', '1907410023', '9789587045079', '9780316033411', '2298011532', '9780316014410', '8466332960', '9788876250484', '8876250484', '9782013212113', '8420471933'], 'title': 'Twilight', 'subject': ['New York Times bestseller', 'nyt:series_books=2008-03-15', 'School & Education', 'Vampires', 'Juvenile Fiction', 'Fiction', \"Children's Books - Young Adult Fiction\", 'Science Fiction, Fantasy, & Magic', 'Children: Young Adult (Gr. 10-12)', 'Schools', 'Love & Romance', 'Horror & Ghost Stories', 'Juvenile Fiction / Horror & Ghost Stories', 'High schools', \"Children's 12-Up - Fiction - Horror\", 'High school students', 'First loves', 'Vampires, fiction', 'Schools, fiction', 'Washington (state), fiction', \"Children's fiction\", 'Love, fiction', 'cheese', 'Graphic novels', 'Adaptations', 'Large type books', 'Vampiros', 'Ficción juvenil', 'Escuelas secundarias', 'Escuelas', 'nyt:hardcover-graphic-books=2010-04-04', 'Edward Cullen (Fictitious character)', 'Comic books, strips', 'Bella Swan (Fictitious character)', 'Twilight (Meyer, Stephenie)', 'Motion pictures, juvenile literature', 'Motion pictures', 'Chinese language', 'Chang pian xiao shuo', 'Simplified characters', 'Russian language materials', 'Interpersonal attraction', 'Upside-down books', 'Teenagers', 'Comics & graphic novels, romance', 'Comics & graphic novels, fantasy', 'Translations into Chinese', 'Werewolves', 'American fiction', 'Yan qing xiao shuo', 'Interpersonal relations, fiction', 'Youth, fiction', 'High school', 'Junge Frau', 'Vampir', 'Verlieben', 'School stories', 'Reading materials', \"Children's books\", 'Spanish language', 'Novela juvenil', 'Spanish language materials', 'Translations from English', 'Portuguese fiction', 'Novela estadounidense', 'Novela', 'Interpersonal relations', 'Polish language materials', 'Romans, nouvelles, etc. pour la jeunesse', 'Écoles', 'Love', 'Young adult fiction', 'Persistence', 'Friendship', 'Romans, nouvelles', 'Élèves du secondaire', 'Écoles secondaires', 'Premier amour', 'Amour', 'Roman pour jeunes adultes', 'Persévérance', 'Amitié', 'Paranormal, Occult & Supernatural. . .', 'Romance', 'Paranormal', 'Social Themes', 'Dating & Sex', 'Außenseiterin', 'Gefahr', 'Tochter', 'Weibliche Jugend', 'Wohnungswechsel', 'Supernatural fiction', 'Mishnah', 'American Young adult fiction', 'Roman pour jeunes adultes américain', 'Comics & graphic novels, fantasy, general']}], 'num_found': 890, 'q': 'subject:(\"social themes\" OR \"comics & graphic novels\") subject:(\"race relations\" OR \"americans\")', 'offset': None}\n"
     ]
    }
   ],
   "source": [
    "print(search_recs(['social themes', 'comics & graphic novels'], ['race relations', 'americans'], 2))"
   ]
  },
  {
   "cell_type": "code",
   "execution_count": 60,
   "metadata": {
    "id": "qHI75FIPOoW_"
   },
   "outputs": [],
   "source": [
    "#book = get_books(syllabus); takes in a list of ISBNs\n",
    "def get_tags(books):\n",
    "  r = [requests.get(f'https://openlibrary.org/search.json?q=isbn:{isbn}&fields=subject').json()['docs'][0]['subject'] for isbn in books] #just give me the list of subjects plz\n",
    "  return r"
   ]
  },
  {
   "cell_type": "code",
   "execution_count": 61,
   "metadata": {
    "colab": {
     "base_uri": "https://localhost:8080/"
    },
    "id": "SB-1FyiMRm2V",
    "outputId": "2e2cfe62-0d7a-4103-b800-338edf983322"
   },
   "outputs": [
    {
     "name": "stdout",
     "output_type": "stream",
     "text": [
      "[['Married people, fiction', 'American fiction (fictional works by one author)', 'Fiction, psychological', 'Long island (n.y.), fiction', 'Fiction', 'Rich people', 'Mistresses', 'Married women', 'Traffic accidents', 'First loves', 'Revenge', 'American Manuscripts', 'Facsimiles', 'Manuscripts', 'Antiheroes, l fiction', 'Man-woman relationships, fiction', 'Upper class', 'American literature', 'Young adult fiction, comics & graphic novels, classic adaptation', 'Young adult fiction, social themes, class differences', 'Young adult fiction, classics', 'Fiction, historical,  New york (n.y.)', 'fiction\"', 'Comic books, strips', 'Love', 'YOUNG ADULT FICTION', 'Comics & Graphic Novels', 'Classic Adaptation', 'Social Themes', 'Class Differences', 'Historical', 'Literary', 'Man-woman relationship', 'Rich', 'Criticism and interpretation', 'Drama', 'Modern fiction', 'Classics', 'Literature', 'Open Library Staff Picks', 'Wealth', 'Readers', 'Economic conditions', 'American fiction', 'Social life and customs', 'Long Now Manual for Civilization', 'Fictional Works Publication Type', 'Rich people -- Fiction', 'Romance fiction', 'Long Island (N.Y.) -- Fiction', 'Psychological fiction', 'Love stories', 'Novela', 'Relaciones hombre-mujer', 'Spanish language materials', 'Nouveau riche', 'Reading Level-Grade 11', 'Reading Level-Grade 12', 'FICTION / General', 'Moral conditions', 'Manners and customs', 'Fitzgerald, f. scott (francis scott), 1896-1940', 'Large type books', 'Nineteen twenties', 'English fiction', 'New york (state), fiction', 'Wives', 'Relations entre hommes et femmes', 'Romans, nouvelles', 'Classes supérieures', 'Nouveaux riches', 'Premier amour', 'Riches', 'Maîtresses', 'Vengeance', 'Roman américain', 'Textual Criticism', 'Great Gatsby (Fitzgerald, F. Scott)', 'Romance Norte Americano', 'Fiction, friendship', 'Fiction, classics', 'Adultery', 'Accidents de la route', 'Millionaires', 'American Dream', 'Millionnaires', 'Rêve américain', 'Années vingt (Vingtième siècle)', 'Tránsito', 'Accidentes', 'Mujeres casadas', 'Primer amor', 'Cuentos de amor', 'Fiction, city life', 'Fiction, romance, historical, american', 'Fiction, romance, historical, 20th century', 'Fiction, historical, world war i', 'Traffic accidents--Fiction', 'First loves--Fiction', 'Rich people--Fiction', 'Mistresses--Fiction', 'Revenge--Fiction', 'Long Island (N.Y.)--Fiction', 'Novel', 'American fiction (collections), 20th century', 'Fiction, fantasy, romance', 'Fiction, action & adventure', 'Translations into Chinese', 'American literature, history and criticism, 19th century', 'Chang pian xiao shuo', 'New York (State)', 'First loves -- Fiction', 'Rich people -- New York (State) -- New York -- Fiction', 'New York (State) -- Long Island', 'New York (State) -- New York', 'Fictional works [publication type]', 'Man-woman relationships--new york (state)--long island--fiction', 'Upper class--new york (state)--long island--fiction', 'Ps3511.i9 g7 1995b', '813/.52', 'Fiction, general', 'Fiction, romance, general', 'Man-woman relationships'], ['Race relations', 'African Americans', 'Psychology', 'Afro-Americans', 'Giovanni, Nikki', 'Fiction', 'Americans in fiction', 'Americans', 'Sexual behavior', 'Homosexuality in fiction', 'Sexual orientation', 'Men', 'Bisexuals in fiction', 'Men in fiction', 'Sexual orientation in fiction', 'Homosexuality', 'Bisexuals', 'Classic Literature', 'Gay men', 'LGBTQ novels', 'Fiction, african american, general', 'Fiction, gay', 'Paris (france), fiction', 'FICTION / African American / General', 'FICTION / Classics', 'FICTION / Literary', 'Fiction, romance, general', 'American fiction (fictional works by one author)', 'Fiction, psychological', 'Fiction, african american & black, general', 'LGBTQ novels before Stonewall', 'American literature', 'Hommes', 'Romans, nouvelles', 'Sexualité', 'Homosexualité', 'Orientation sexuelle', 'Bisexuels', 'African American', 'General', 'Literary', 'Classics', 'Bohemianism', 'Blacks', 'Americans--france--fiction', 'Sexual orientation--fiction', 'Bisexuals--fiction', 'Ps3552.a45 g5 2001', '813/.54']]\n"
     ]
    }
   ],
   "source": [
    "lst = get_tags([9780192832696, 9780451015594])\n",
    "print(lst)"
   ]
  },
  {
   "cell_type": "code",
   "execution_count": null,
   "metadata": {
    "id": "iHfj9VIeW0tA"
   },
   "outputs": [],
   "source": [
    "#takes in a list\n",
    "def clean_tags(l):\n",
    "  #for idx, l in enumerate(tags): #index, list of lists\n",
    "\n",
    "  #We can either keep a tag if both methods AGREE that it is english OR only use one and set a probability threshold for english likelihood\n",
    "  #if english, using fast text; https://aclanthology.org/E17-2068/ and\n",
    "  #if english, using langid http://www.aclweb.org/anthology/P12-3005\n",
    "  #off a cursory glance, performs better than the fasttext one, but still not as robust as using both\n",
    "  l = [s for s in l if fast_eng(s) or lang_eng(s)]\n",
    "  #pre-lowercase because of proper nouns\n",
    "  \n",
    "  #lowercase\n",
    "  l = [s.lower() for s in l]\n",
    "  #print(l)\n",
    "  #remove mentions of \"fiction\" to prevent stripped pertinent information due to commas later on\n",
    "  l = [s.split('in fiction')[0] for s in l] #remove any mention of 'fiction'\n",
    "  l = [s.split(', fiction')[0] for s in l] #remove any mention of 'fiction'\n",
    "  l = [s.split('fiction, ')[0] for s in l] #remove any mention of 'fiction'\n",
    "  #print(l)\n",
    "  #clean for extraness\n",
    "  l = [s.split(',')[0]  for s in l] #remove anything after a comma\n",
    "  l = [s.split('--')[0]  for s in l] #remove anything with the --\n",
    "  l = [s.split('(')[0]  for s in l] #remove parenthesis and anything within it\n",
    "  l = [s.split('[')[0]  for s in l] #remove parenthesis and anything within it\n",
    "  l = [s.split('{')[0]  for s in l] #remove parenthesis and anything within it\n",
    "  l = [s.split('/')[0]  for s in l] #look at info before slash\n",
    "  l = [s.split('\"')[0]  for s in l] #remove quotes\n",
    "  l = [s for s in l if \":\" not in s] #remove anything with colons\n",
    "  l = [s.split(' - ')[0]  for s in l] #remove dashes\n",
    "  #print(l)\n",
    "  #remove other uninformative tags\n",
    "  l = [s for s in l if \"reading level\" and \"translations\" and \"staff\" and \"language materials\" not in s]\n",
    "  l = [s for s in l if not s.startswith(\"award\")] #remove award mentions\n",
    "  #print(l)\n",
    "  \n",
    "  #remove dewey system stuff until further notice\n",
    "  l = [s for s in l if not bool(re.search(r'\\d', s))]\n",
    "\n",
    "  #ampersand in the tags is causing problems\n",
    "\n",
    "  #remove whitespace\n",
    "  l = [s.strip(' \\t\\n\\r') for s in l]\n",
    "\n",
    "  #remove empty string\n",
    "  l = [s for s in l if bool(s) != False]\n",
    "\n",
    "  return l #list, nonunique"
   ]
  },
  {
   "cell_type": "code",
   "execution_count": null,
   "metadata": {
    "colab": {
     "base_uri": "https://localhost:8080/"
    },
    "id": "zLpEYa3PBTuK",
    "outputId": "5ab430cb-90d5-4cfe-f243-e31b9cc18992"
   },
   "outputs": [
    {
     "name": "stdout",
     "output_type": "stream",
     "text": [
      "[['social themes', 'comics & graphic novels', 'modern fiction', 'psychological fiction', 'manners and customs', 'long island', 'love stories', 'married people', 'fiction', 'new york', 'historical', 'upper class', 'wives', 'economic conditions', 'american fiction', 'drama', 'classic adaptation', 'american literature', 'fictional works publication type', 'married women', 'readers', 'fictional works', 'young adult', 'long now manual for civilization', 'first loves', 'wealth', 'love', 'criticism and interpretation', 'moral conditions', 'comic books', 'novel', 'classics', 'large type books', 'facsimiles', 'literature', 'man-woman relationships', 'social life and customs', 'man-woman relationship'], ['sexual behavior', 'americans', 'bisexuals', 'classic literature', 'homosexuality', 'general', 'men', 'bohemianism', 'classics', 'american fiction', 'blacks', 'lgbtq novels before stonewall', 'sexual orientation', 'race relations', 'fiction', 'american literature']]\n"
     ]
    }
   ],
   "source": [
    "print([clean_tags(l) for l in lst])"
   ]
  },
  {
   "cell_type": "code",
   "execution_count": null,
   "metadata": {},
   "outputs": [],
   "source": [
    "# Create a new dictionary to hold the modified keys and values\n",
    "new_tags = {}\n",
    "\n",
    "for k, v in tags.items():\n",
    "    n = k.lower().replace('-', '_').strip('.')\n",
    "    new_tags[n] = clean_tags(v)\n",
    "\n",
    "tags = new_tags"
   ]
  },
  {
   "cell_type": "code",
   "execution_count": null,
   "metadata": {},
   "outputs": [],
   "source": [
    "from collections import Counter\n",
    "\n",
    "# Initialize a dictionary to hold the results\n",
    "result = {}\n",
    "\n",
    "# Iterate over each key and value list in the data\n",
    "for key, values in tags.items():\n",
    "    counter = Counter(values) #occurences\n",
    "    total = sum(counter.values()) #totals\n",
    "\n",
    "    # Create a new dictionary with percentage occurrences\n",
    "    percentage_dict = {word: (count / total) for word, count in counter.items()}\n",
    "\n",
    "    # Store the result for the current key\n",
    "    result[key] = percentage_dict\n",
    "\n",
    "result"
   ]
  }
 ],
 "metadata": {
  "colab": {
   "provenance": []
  },
  "kernelspec": {
   "display_name": "Python 3",
   "name": "python3"
  },
  "language_info": {
   "name": "python"
  }
 },
 "nbformat": 4,
 "nbformat_minor": 0
}
