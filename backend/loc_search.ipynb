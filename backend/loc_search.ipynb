{
 "cells": [
  {
   "cell_type": "code",
   "execution_count": null,
   "metadata": {},
   "outputs": [],
   "source": [
    "import json\n",
    "import re\n",
    "\n",
    "#with open('./tags.json', 'r') as reader:\n",
    "#    tags = {k: v for d in json.load(reader) for k, v in d.items()}\n",
    "\n",
    "with open('./detailed-lcc.json', 'r') as reader:\n",
    "    detail = json.load(reader)\n",
    "\n",
    "with open('./top-level-lcc.json', 'r') as reader:\n",
    "    basic = json.load(reader)"
   ]
  },
  {
   "cell_type": "code",
   "execution_count": null,
   "metadata": {},
   "outputs": [],
   "source": [
    "ex1 = 'HV-1568.00000000.B376 2016' #The Minority Body by Elizabeth Barnes\n",
    "ex2 = 'DAW1008.00000000.B37 1987' #A guide to Central Europe by Bassett, Richard\n",
    "ex3 = 'E--185.86.00000000.H739 2001' #Salvation: Black People and Love by bell hooks\n",
    "ex4 = 'PL-0788.40000000.G4 E5 2000' #Genji Monogatari by Murasaki Shikibu\n",
    "ex5 = 'DS-0032.80000000' #Orientalism by Edward Said"
   ]
  },
  {
   "cell_type": "code",
   "execution_count": null,
   "metadata": {},
   "outputs": [],
   "source": [
    "def split_lcc(call_number): #returns tuple\n",
    "    out = re.findall(r'[A-Z]+-*\\d+\\.*[1-9]+', call_number)[0] #specifically for how OL formats their LCC call numbers\n",
    "    out = out.replace('-', '')\n",
    "    out = re.sub(r'(?<=[A-Z])0+', '', out)\n",
    "\n",
    "    match = re.match(r'([A-Z]+)(\\d+\\.*\\d+)', out)\n",
    "    if match:\n",
    "        return (match.group(1), float(match.group(2)))\n",
    "\n",
    "def lookup_meaning(code): #takes in tuple (call number)\n",
    "    l = []\n",
    "\n",
    "    try:  \n",
    "        l.append(basic[code[0]][0]['subject']) #get overarching subject\n",
    "\n",
    "    except:\n",
    "        pass\n",
    "\n",
    "    try:\n",
    "        d = detail[code[0]]\n",
    "        for i in d:\n",
    "            if code[1] >= i['start'] and code[1] <= i['stop']:\n",
    "                l.append(i['subject'])\n",
    "    except:\n",
    "        pass\n",
    "\n",
    "    return l\n",
    "    #returns a list of definitions for the code"
   ]
  },
  {
   "cell_type": "code",
   "execution_count": null,
   "metadata": {},
   "outputs": [],
   "source": [
    "print(lookup_meaning(split_lcc(ex1)))\n",
    "print(lookup_meaning(split_lcc(ex2)))\n",
    "print(lookup_meaning(split_lcc(ex3)))\n",
    "print(lookup_meaning(split_lcc(ex4)))\n",
    "print(lookup_meaning(split_lcc(ex5)))"
   ]
  }
 ],
 "metadata": {
  "kernelspec": {
   "display_name": "founders-nlp",
   "language": "python",
   "name": "python3"
  },
  "language_info": {
   "codemirror_mode": {
    "name": "ipython",
    "version": 3
   },
   "file_extension": ".py",
   "mimetype": "text/x-python",
   "name": "python",
   "nbconvert_exporter": "python",
   "pygments_lexer": "ipython3",
   "version": "3.11.9"
  }
 },
 "nbformat": 4,
 "nbformat_minor": 2
}
