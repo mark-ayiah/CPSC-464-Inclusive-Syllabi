{
 "cells": [
  {
   "cell_type": "code",
   "execution_count": 1,
   "metadata": {},
   "outputs": [],
   "source": [
    "import json\n",
    "import re\n",
    "\n",
    "with open('./tags.json', 'r') as reader:\n",
    "    tags = {k: v for d in json.load(reader) for k, v in d.items()}\n",
    "\n",
    "with open('./detailed-lcc.json', 'r') as reader:\n",
    "    detail = json.load(reader)\n",
    "\n",
    "with open('./top-level-lcc.json', 'r') as reader:\n",
    "    basic = json.load(reader)"
   ]
  },
  {
   "cell_type": "code",
   "execution_count": null,
   "metadata": {},
   "outputs": [],
   "source": [
    "ex1 = 'HV-1568.00000000.B376 2016' #The Minority Body by Elizabeth Barnes\n",
    "ex2 = 'PS-3614.00000000.G83O97 2022' #Our Missing Hearts by Celest Ng\n",
    "ex3 = 'DAW1008.00000000.B37 1987' #A guide to Central Europe by Bassett, Richard\n",
    "ex4 = 'E185.86.00000000.H739 2001' #Salvation: Black People and Love by bell hooks"
   ]
  },
  {
   "cell_type": "code",
   "execution_count": 49,
   "metadata": {},
   "outputs": [],
   "source": [
    "def split_lcc(code): #takes in an lcc code from OL API\n",
    "    l = []\n",
    "    match_lst = []\n",
    "\n",
    "    #clean input\n",
    "    key_words = re.split(r'\\.0+| ', code) #returns list\n",
    "    key_words = [w for w in key_words if not w.isdigit()] #get rid of years and buffer between labels\n",
    "    key_words = [re.sub(r'(?<=\\w)0+', '', w.replace('-', '')) for w in key_words] #remove leading 0s, dashes\n",
    "    key_words = [re.sub(r'\\.', '', w) for w in key_words] #remove leading .\n",
    "\n",
    "    for k in key_words: #for example 2\n",
    "        if re.match(r'[A-Z]\\d+[A-Z]\\d+', k):\n",
    "            # Split the item and add to the result list\n",
    "            matches = re.findall(r'[A-Z]\\d+', k)\n",
    "            key_words.remove(k)\n",
    "            key_words.extend(matches)\n",
    "\n",
    "    #split into dict k,v pair\n",
    "    for k in key_words:\n",
    "        match = re.match(r'([A-Z]+)(\\d+\\.*\\d+)', k)\n",
    "        if match:\n",
    "            l.append({match.group(1): float(match.group(2))})\n",
    "    return l #returns a list of standardized codes\n",
    "\n",
    "def lookup_meaning(codes): #takes in a k,v pair (could change to a tuple if preferred)\n",
    "    l = []\n",
    "\n",
    "    for c in codes:\n",
    "        for k, v in c.items():\n",
    "            l.append(basic[k[0]][0]['subject']) #get overarching subject\n",
    "\n",
    "            try:\n",
    "                d = detail[k]\n",
    "                for i in d:\n",
    "                    if v >= i['start'] and v <= i['stop']:\n",
    "                        l.append(i['subject'])\n",
    "            except:\n",
    "                continue\n",
    "\n",
    "    return l\n",
    "    #returns a list of definitions for the code"
   ]
  },
  {
   "cell_type": "code",
   "execution_count": 48,
   "metadata": {},
   "outputs": [
    {
     "name": "stdout",
     "output_type": "stream",
     "text": [
      "['HV1568', 'B376']\n",
      "['Social Sciences', 'Special classes', 'People with disabilities', 'Protection, assistance and relief', 'Social pathology.  Social and public welfare.', 'Philosophy, Psychology, Religion', 'By period', 'Philosophy (General)', 'Ancient']\n",
      "['PS3614', 'G8397']\n",
      "['Language and Literature', 'Geography, Anthropology, and Recreation', 'Eastern Hemisphere.  Eurasia, Africa, etc.', 'Africa', 'By region or country', 'Maps']\n",
      "['DAW18', 'B37']\n",
      "['World History and History of Europe, Asia, Africa, Australia, New Zealand, etc.', 'Philosophy, Psychology, Religion', 'Philosophy (General)']\n",
      "['E18586', 'H739']\n",
      "['History of America', 'Social Sciences']\n"
     ]
    }
   ],
   "source": [
    "print(lookup_meaning(split_lcc(ex1)))\n",
    "print(lookup_meaning(split_lcc(ex2)))\n",
    "print(lookup_meaning(split_lcc(ex3)))\n",
    "print(lookup_meaning(split_lcc(ex4)))"
   ]
  }
 ],
 "metadata": {
  "kernelspec": {
   "display_name": "founders-nlp",
   "language": "python",
   "name": "python3"
  },
  "language_info": {
   "codemirror_mode": {
    "name": "ipython",
    "version": 3
   },
   "file_extension": ".py",
   "mimetype": "text/x-python",
   "name": "python",
   "nbconvert_exporter": "python",
   "pygments_lexer": "ipython3",
   "version": "3.11.9"
  }
 },
 "nbformat": 4,
 "nbformat_minor": 2
}
